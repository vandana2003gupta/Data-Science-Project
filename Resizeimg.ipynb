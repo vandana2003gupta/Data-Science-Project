{
 "cells": [
  {
   "cell_type": "code",
   "execution_count": 8,
   "id": "fdc3e15a",
   "metadata": {},
   "outputs": [
    {
     "data": {
      "text/plain": [
       "DeltaGenerator()"
      ]
     },
     "execution_count": 8,
     "metadata": {},
     "output_type": "execute_result"
    }
   ],
   "source": [
    "from PIL import Image\n",
    "import streamlit as st\n",
    "\n",
    "# Load and resize img4.png\n",
    "img4 = Image.open(\"Diseases/Heart-Disease-Prediction/img4.png\")\n",
    "aspect_ratio = img4.width / img4.height\n",
    "new_height = 500\n",
    "new_width = int(aspect_ratio * new_height)\n",
    "img4_resized = img4.resize((new_width, new_height))\n",
    "st.image(img4_resized)\n",
    "\n",
    "# Load and resize img.webp\n",
    "img_webp = Image.open(\"Diseases/Parkinson-Disease-EDA-and-Prediction/img.webp\")\n",
    "aspect_ratio_webp = img_webp.width / img_webp.height\n",
    "new_height_webp = 400\n",
    "new_width_webp = int(aspect_ratio_webp * new_height_webp)\n",
    "img_webp_resized = img_webp.resize((new_width_webp, new_height_webp))\n",
    "st.image(img_webp_resized)\n"
   ]
  },
  {
   "cell_type": "code",
   "execution_count": 9,
   "id": "20b359a8",
   "metadata": {},
   "outputs": [
    {
     "data": {
      "text/plain": [
       "DeltaGenerator()"
      ]
     },
     "execution_count": 9,
     "metadata": {},
     "output_type": "execute_result"
    }
   ],
   "source": [
    "from PIL import Image\n",
    "\n",
    "# Resize and save img4.png\n",
    "img4 = Image.open(\"Diseases/Heart-Disease-Prediction/img4.png\")\n",
    "aspect_ratio = img4.width / img4.height\n",
    "new_height = 500\n",
    "new_width = int(aspect_ratio * new_height)\n",
    "img4_resized = img4.resize((new_width, new_height))\n",
    "\n",
    "# Save the resized image\n",
    "img4_resized.save(\"Diseases/Heart-Disease-Prediction/img4_resized.png\")\n",
    "\n",
    "# Now show the resized image\n",
    "st.image(\"Diseases/Heart-Disease-Prediction/img4_resized.png\")\n"
   ]
  },
  {
   "cell_type": "code",
   "execution_count": null,
   "id": "934b472e",
   "metadata": {},
   "outputs": [],
   "source": []
  },
  {
   "cell_type": "code",
   "execution_count": null,
   "id": "c6dde204",
   "metadata": {},
   "outputs": [],
   "source": []
  },
  {
   "cell_type": "code",
   "execution_count": null,
   "id": "c2a5ef7a",
   "metadata": {},
   "outputs": [],
   "source": []
  },
  {
   "cell_type": "code",
   "execution_count": null,
   "id": "28791522",
   "metadata": {},
   "outputs": [],
   "source": []
  },
  {
   "cell_type": "code",
   "execution_count": null,
   "id": "e36d636f",
   "metadata": {},
   "outputs": [],
   "source": []
  }
 ],
 "metadata": {
  "kernelspec": {
   "display_name": "base",
   "language": "python",
   "name": "python3"
  },
  "language_info": {
   "codemirror_mode": {
    "name": "ipython",
    "version": 3
   },
   "file_extension": ".py",
   "mimetype": "text/x-python",
   "name": "python",
   "nbconvert_exporter": "python",
   "pygments_lexer": "ipython3",
   "version": "3.12.3"
  }
 },
 "nbformat": 4,
 "nbformat_minor": 5
}
